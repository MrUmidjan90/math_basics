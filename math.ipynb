{
  "nbformat": 4,
  "nbformat_minor": 0,
  "metadata": {
    "colab": {
      "name": "math.ipynb",
      "provenance": [],
      "authorship_tag": "ABX9TyPbx+N+W3MR8wOLfCew9C/j",
      "include_colab_link": true
    },
    "kernelspec": {
      "name": "python3",
      "display_name": "Python 3"
    },
    "language_info": {
      "name": "python"
    }
  },
  "cells": [
    {
      "cell_type": "markdown",
      "metadata": {
        "id": "view-in-github",
        "colab_type": "text"
      },
      "source": [
        "<a href=\"https://colab.research.google.com/github/RAGprog/math_basics/blob/main/math.ipynb\" target=\"_parent\"><img src=\"https://colab.research.google.com/assets/colab-badge.svg\" alt=\"Open In Colab\"/></a>"
      ]
    },
    {
      "cell_type": "markdown",
      "metadata": {
        "id": "5R4UqU7tKW45"
      },
      "source": [
        "Math\n",
        "## Курс высшей математики (В.С.Шипачев)"
      ]
    },
    {
      "cell_type": "markdown",
      "metadata": {
        "id": "LfErFhLGKgS8"
      },
      "source": [
        "Глава II. Теория пределов."
      ]
    },
    {
      "cell_type": "markdown",
      "metadata": {
        "id": "I6YhN7BsKnPr"
      },
      "source": [
        "I. Числовые последовательности"
      ]
    },
    {
      "cell_type": "code",
      "metadata": {
        "id": "5rGHob3aPOEL"
      },
      "source": [
        "import math"
      ],
      "execution_count": 17,
      "outputs": []
    },
    {
      "cell_type": "code",
      "metadata": {
        "id": "y1u0_7w_KV7_"
      },
      "source": [
        "def arifmetical_pogression(x, a=2):\n",
        "  return x * a\n",
        "\n",
        "def geometrical_progression(x, b=1, q=2):\n",
        "  return b * q ** (x - 1)\n",
        "\n",
        "def numerical_sequence_generator_1(n, function=arifmetical_pogression, start_num=1):\n",
        "  result = []\n",
        "  for i in range(start_num, n + 1):\n",
        "    result.append(function(i))\n",
        "  return result\n",
        "\n",
        "def numerical_sequence_generator_2(n, L, start_num=2):\n",
        "  '''\n",
        "  perimetr_of_regular_polygon_seq_gen\n",
        "  L - длина окружности\n",
        "  '''\n",
        "  result = [0]\n",
        "  for i in range(start_num, n + 1):\n",
        "    result.append((math.sin(math.pi / i) * L / math.pi) * i)\n",
        "  return result\n",
        "\n",
        "def numerical_sequence_generator_3(n, start_num=0):\n",
        "  '''\n",
        "  приближенные значения sqrt(2)\n",
        "  '''\n",
        "  result = []\n",
        "  for i in range(start_num, n + 1):\n",
        "    result.append(round(math.sqrt(2), i))\n",
        "  return result"
      ],
      "execution_count": 28,
      "outputs": []
    },
    {
      "cell_type": "code",
      "metadata": {
        "colab": {
          "base_uri": "https://localhost:8080/"
        },
        "id": "FeTNbkczMQnF",
        "outputId": "8eb358c4-09cf-4954-8b84-bb9459b2cf8d"
      },
      "source": [
        "numerical_sequence_generator_1(5, geometrical_progression)"
      ],
      "execution_count": 16,
      "outputs": [
        {
          "output_type": "execute_result",
          "data": {
            "text/plain": [
              "[1, 2, 4, 8, 16]"
            ]
          },
          "metadata": {},
          "execution_count": 16
        }
      ]
    },
    {
      "cell_type": "code",
      "metadata": {
        "colab": {
          "base_uri": "https://localhost:8080/"
        },
        "id": "x8guPTQVMtUC",
        "outputId": "d14fc296-e8a0-4017-9160-04474cb2f870"
      },
      "source": [
        "numerical_sequence_generator_2(5, 4)"
      ],
      "execution_count": 23,
      "outputs": [
        {
          "output_type": "execute_result",
          "data": {
            "text/plain": [
              "[0,\n",
              " 2.5464790894703255,\n",
              " 3.3079733725307525,\n",
              " 3.6012652646284242,\n",
              " 3.741957135154556]"
            ]
          },
          "metadata": {},
          "execution_count": 23
        }
      ]
    },
    {
      "cell_type": "code",
      "metadata": {
        "colab": {
          "base_uri": "https://localhost:8080/"
        },
        "id": "-1aFaXrXSrc2",
        "outputId": "6037e924-098f-45ae-f1b7-af974df6dc87"
      },
      "source": [
        "numerical_sequence_generator_3(5)"
      ],
      "execution_count": 31,
      "outputs": [
        {
          "output_type": "execute_result",
          "data": {
            "text/plain": [
              "[1.0, 1.4, 1.41, 1.414, 1.4142, 1.41421]"
            ]
          },
          "metadata": {},
          "execution_count": 31
        }
      ]
    },
    {
      "cell_type": "markdown",
      "metadata": {
        "id": "A5Rv7PyQUUVe"
      },
      "source": [
        "- [ ] **Сделать то же в np**"
      ]
    },
    {
      "cell_type": "code",
      "metadata": {
        "id": "1QTwNM2KTuzl"
      },
      "source": [
        ""
      ],
      "execution_count": null,
      "outputs": []
    }
  ]
}