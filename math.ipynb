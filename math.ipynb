{
  "nbformat": 4,
  "nbformat_minor": 0,
  "metadata": {
    "colab": {
      "name": "math.ipynb",
      "provenance": [],
      "include_colab_link": true
    },
    "kernelspec": {
      "name": "python3",
      "display_name": "Python 3"
    },
    "language_info": {
      "name": "python"
    }
  },
  "cells": [
    {
      "cell_type": "markdown",
      "metadata": {
        "id": "view-in-github",
        "colab_type": "text"
      },
      "source": [
        "<a href=\"https://colab.research.google.com/github/MrUmidjan90/math_basics/blob/main/math.ipynb\" target=\"_parent\"><img src=\"https://colab.research.google.com/assets/colab-badge.svg\" alt=\"Open In Colab\"/></a>"
      ]
    },
    {
      "cell_type": "markdown",
      "metadata": {
        "id": "5R4UqU7tKW45"
      },
      "source": [
        "Math\n",
        "## Курс высшей математики (В.С.Шипачев)"
      ]
    },
    {
      "cell_type": "markdown",
      "metadata": {
        "id": "LfErFhLGKgS8"
      },
      "source": [
        "Глава II. Теория пределов."
      ]
    },
    {
      "cell_type": "markdown",
      "metadata": {
        "id": "I6YhN7BsKnPr"
      },
      "source": [
        "I. Числовые последовательности"
      ]
    },
    {
      "cell_type": "code",
      "metadata": {
        "id": "5rGHob3aPOEL"
      },
      "source": [
        "import math\n",
        "import numpy as np\n"
      ],
      "execution_count": 1,
      "outputs": []
    },
    {
      "cell_type": "code",
      "metadata": {
        "id": "y1u0_7w_KV7_"
      },
      "source": [
        "def arifmetical_pogression(x, a=2):\n",
        "  return x * a\n",
        "\n",
        "def geometrical_progression(x, b=1, q=2):\n",
        "  return b * q ** (x - 1)\n",
        "\n",
        "def numerical_sequence_generator_1(n, function=arifmetical_pogression, start_num=1):\n",
        "  result = []\n",
        "  for i in range(start_num, n + start_num):\n",
        "    result.append(function(i))\n",
        "  return result\n",
        "\n",
        "def numerical_sequence_generator_2(n, L, start_num=2):\n",
        "  '''\n",
        "  perimetr_of_regular_polygon_seq_gen\n",
        "  L - длина окружности\n",
        "  '''\n",
        "  # result = [0]\n",
        "  result = []\n",
        "  for i in range(start_num, n + start_num):\n",
        "    result.append((math.sin(math.pi / i) * L / math.pi) * i)\n",
        "  return result\n",
        "\n",
        "def numerical_sequence_generator_3(n, start_num=0):\n",
        "  '''\n",
        "  приближенные значения sqrt(2)\n",
        "  '''\n",
        "  result = []\n",
        "  for i in range(start_num, n + start_num):\n",
        "    result.append(round(math.sqrt(2), i))\n",
        "  return result"
      ],
      "execution_count": 2,
      "outputs": []
    },
    {
      "cell_type": "code",
      "metadata": {
        "colab": {
          "base_uri": "https://localhost:8080/"
        },
        "id": "FeTNbkczMQnF",
        "outputId": "cb0616c2-1710-441a-e6e9-48e9a02a0573"
      },
      "source": [
        "[numerical_sequence_generator_1(20, arifmetical_pogression, 2), numerical_sequence_generator_1(20, arifmetical_pogression, 2)]"
      ],
      "execution_count": 10,
      "outputs": [
        {
          "output_type": "execute_result",
          "data": {
            "text/plain": [
              "[[4, 6, 8, 10, 12, 14, 16, 18, 20, 22, 24, 26, 28, 30, 32, 34, 36, 38, 40, 42],\n",
              " [4, 6, 8, 10, 12, 14, 16, 18, 20, 22, 24, 26, 28, 30, 32, 34, 36, 38, 40, 42]]"
            ]
          },
          "metadata": {},
          "execution_count": 10
        }
      ]
    },
    {
      "cell_type": "code",
      "metadata": {
        "colab": {
          "base_uri": "https://localhost:8080/"
        },
        "id": "x8guPTQVMtUC",
        "outputId": "5f741706-ce9a-4bea-e6ba-0a8d74417f03"
      },
      "source": [
        "numerical_sequence_generator_2(20, 4)"
      ],
      "execution_count": 7,
      "outputs": [
        {
          "output_type": "execute_result",
          "data": {
            "text/plain": [
              "[2.5464790894703255,\n",
              " 3.3079733725307525,\n",
              " 3.6012652646284242,\n",
              " 3.741957135154556,\n",
              " 3.8197186342054876,\n",
              " 3.8670655412342088,\n",
              " 3.8979814336177308,\n",
              " 3.919262144204066,\n",
              " 3.9345265723338634,\n",
              " 3.9458433565084077,\n",
              " 3.9544637178614765,\n",
              " 3.96118017679128,\n",
              " 3.966514337024133,\n",
              " 3.970820798428827,\n",
              " 3.974347404576823,\n",
              " 3.977271590971287,\n",
              " 3.9797230801811945,\n",
              " 3.9817984827033333,\n",
              " 3.983570940974246,\n",
              " 3.9850966497814353]"
            ]
          },
          "metadata": {},
          "execution_count": 7
        }
      ]
    },
    {
      "cell_type": "code",
      "metadata": {
        "colab": {
          "base_uri": "https://localhost:8080/"
        },
        "id": "-1aFaXrXSrc2",
        "outputId": "3c692a21-91c3-412b-c082-7055eba2b237"
      },
      "source": [
        "numerical_sequence_generator_3(20)"
      ],
      "execution_count": 8,
      "outputs": [
        {
          "output_type": "execute_result",
          "data": {
            "text/plain": [
              "[1.0,\n",
              " 1.4,\n",
              " 1.41,\n",
              " 1.414,\n",
              " 1.4142,\n",
              " 1.41421,\n",
              " 1.414214,\n",
              " 1.4142136,\n",
              " 1.41421356,\n",
              " 1.414213562,\n",
              " 1.4142135624,\n",
              " 1.41421356237,\n",
              " 1.414213562373,\n",
              " 1.4142135623731,\n",
              " 1.4142135623731,\n",
              " 1.414213562373095,\n",
              " 1.4142135623730951,\n",
              " 1.4142135623730951,\n",
              " 1.4142135623730951,\n",
              " 1.4142135623730951]"
            ]
          },
          "metadata": {},
          "execution_count": 8
        }
      ]
    },
    {
      "cell_type": "markdown",
      "metadata": {
        "id": "A5Rv7PyQUUVe"
      },
      "source": [
        "**То же в np**"
      ]
    },
    {
      "cell_type": "code",
      "metadata": {
        "id": "B7sozb9vbMUq"
      },
      "source": [
        "def arifmetical_pogression(x, a=2):\n",
        "  return x * a\n",
        "\n",
        "def geometrical_progression(x, b=1, q=2):\n",
        "  return b * q ** (x - 1)\n",
        "\n",
        "def numerical_sequence_generator_1(n, function=arifmetical_pogression, start_num=1):\n",
        "  result = []\n",
        "  for i in range(start_num, n + start_num):\n",
        "    result.append(function(i))\n",
        "  return np.array(result)\n",
        "\n",
        "def numerical_sequence_generator_2(n, L=1, start_num=2):\n",
        "  '''\n",
        "  perimetr_of_regular_polygon_seq_gen\n",
        "  L - длина окружности\n",
        "  '''\n",
        "  result = []\n",
        "  for i in range(start_num, n + start_num):\n",
        "    result.append((math.sin(math.pi / i) * L / math.pi) * i)\n",
        "  return np.array(result)\n",
        "\n",
        "def numerical_sequence_generator_3(n, start_num=0):\n",
        "  '''\n",
        "  приближенные значения sqrt(2)\n",
        "  '''\n",
        "  result = []\n",
        "  for i in range(start_num, n + start_num):\n",
        "    result.append(round(math.sqrt(2), i))\n",
        "  return np.array(result)"
      ],
      "execution_count": null,
      "outputs": []
    },
    {
      "cell_type": "code",
      "metadata": {
        "id": "1QTwNM2KTuzl",
        "colab": {
          "base_uri": "https://localhost:8080/"
        },
        "outputId": "4e1333e3-ddc8-4b57-a2bb-5c906ddc18e5"
      },
      "source": [
        "numerical_sequence_generator_2(10) / numerical_sequence_generator_1(10) + numerical_sequence_generator_3(10)"
      ],
      "execution_count": null,
      "outputs": [
        {
          "output_type": "execute_result",
          "data": {
            "text/plain": [
              "array([1.31830989, 1.60674834, 1.56005272, 1.53093616, 1.50969297,\n",
              "       1.49477387, 1.48382081, 1.47545207, 1.46885976, 1.4635366 ])"
            ]
          },
          "metadata": {},
          "execution_count": 29
        }
      ]
    }
  ]
}